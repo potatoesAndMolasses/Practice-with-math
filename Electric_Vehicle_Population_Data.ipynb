{
  "cells": [
    {
      "cell_type": "markdown",
      "metadata": {
        "id": "view-in-github",
        "colab_type": "text"
      },
      "source": [
        "<a href=\"https://colab.research.google.com/github/potatoesAndMolasses/First-steps-on-data/blob/main/Electric_Vehicle_Population_Data.ipynb\" target=\"_parent\"><img src=\"https://colab.research.google.com/assets/colab-badge.svg\" alt=\"Open In Colab\"/></a>"
      ]
    },
    {
      "cell_type": "markdown",
      "source": [
        "# Readme\n",
        "Encontrei esse dataset no site data.gov, ele se chama Electric Vehicle Population Data e sua última atualização foi no dia 14/02/2025, estamos fazendo a analise dos dados no dia 20/02/2025.\n",
        "\n",
        "OBS: Eu tive uma limitação de ram analisando as colunas ao longo do aprendizado, por isso dividimos os dados em pedaços ao analisarmos"
      ],
      "metadata": {
        "id": "7EPF6K4SOtkb"
      }
    },
    {
      "cell_type": "markdown",
      "source": [
        "# Dataset"
      ],
      "metadata": {
        "id": "-UB-xyFWQb7a"
      }
    },
    {
      "cell_type": "code",
      "source": [
        "import numpy as np\n",
        "import pandas as pd\n",
        "import seaborn as sns\n",
        "import matplotlib.pyplot as plt\n",
        "import kagglehub\n",
        "import os"
      ],
      "metadata": {
        "id": "xoTwX3WSVZvC"
      },
      "execution_count": 44,
      "outputs": []
    },
    {
      "cell_type": "code",
      "source": [
        "\"\"\"from google.colab import files\n",
        "uploaded = files.upload()\"\"\""
      ],
      "metadata": {
        "colab": {
          "base_uri": "https://localhost:8080/",
          "height": 36
        },
        "id": "yhGTO-Q0Pi4q",
        "outputId": "5e46c19b-f9e8-4ee5-8af3-7cd86fc766d7"
      },
      "execution_count": 45,
      "outputs": [
        {
          "output_type": "execute_result",
          "data": {
            "text/plain": [
              "'from google.colab import files\\nuploaded = files.upload()'"
            ],
            "application/vnd.google.colaboratory.intrinsic+json": {
              "type": "string"
            }
          },
          "metadata": {},
          "execution_count": 45
        }
      ]
    },
    {
      "cell_type": "code",
      "source": [
        "# Carregar os dados\n",
        "\n",
        "df = pd.read_csv('/content/Electric_Vehicle_Population_Data.csv')"
      ],
      "metadata": {
        "id": "fGgJSVklPS73"
      },
      "execution_count": 46,
      "outputs": []
    },
    {
      "cell_type": "code",
      "source": [
        "# Exibir as primeiras linhas dos dados\n",
        "\n",
        "df.head()"
      ],
      "metadata": {
        "colab": {
          "base_uri": "https://localhost:8080/",
          "height": 677
        },
        "id": "NUies7YpPUZ0",
        "outputId": "aae3ed65-7d19-4ab5-89cf-2f4ba6adc93a"
      },
      "execution_count": 47,
      "outputs": [
        {
          "output_type": "execute_result",
          "data": {
            "text/plain": [
              "   VIN (1-10)    County      City State  Postal Code  Model Year    Make  \\\n",
              "0  2T3YL4DV0E      King  Bellevue    WA      98005.0        2014  TOYOTA   \n",
              "1  5YJ3E1EB6K      King   Bothell    WA      98011.0        2019   TESLA   \n",
              "2  5UX43EU02S  Thurston   Olympia    WA      98502.0        2025     BMW   \n",
              "3  JTMAB3FV5R  Thurston   Olympia    WA      98513.0        2024  TOYOTA   \n",
              "4  5YJYGDEE8M    Yakima     Selah    WA      98942.0        2021   TESLA   \n",
              "\n",
              "        Model                   Electric Vehicle Type  \\\n",
              "0        RAV4          Battery Electric Vehicle (BEV)   \n",
              "1     MODEL 3          Battery Electric Vehicle (BEV)   \n",
              "2          X5  Plug-in Hybrid Electric Vehicle (PHEV)   \n",
              "3  RAV4 PRIME  Plug-in Hybrid Electric Vehicle (PHEV)   \n",
              "4     MODEL Y          Battery Electric Vehicle (BEV)   \n",
              "\n",
              "   Clean Alternative Fuel Vehicle (CAFV) Eligibility  Electric Range  \\\n",
              "0            Clean Alternative Fuel Vehicle Eligible           103.0   \n",
              "1            Clean Alternative Fuel Vehicle Eligible           220.0   \n",
              "2            Clean Alternative Fuel Vehicle Eligible            40.0   \n",
              "3            Clean Alternative Fuel Vehicle Eligible            42.0   \n",
              "4  Eligibility unknown as battery range has not b...             0.0   \n",
              "\n",
              "   Base MSRP  Legislative District  DOL Vehicle ID  \\\n",
              "0        0.0                  41.0       186450183   \n",
              "1        0.0                   1.0       478093654   \n",
              "2        0.0                  35.0       274800718   \n",
              "3        0.0                   2.0       260758165   \n",
              "4        0.0                  15.0       236581355   \n",
              "\n",
              "              Vehicle Location                               Electric Utility  \\\n",
              "0   POINT (-122.1621 47.64441)  PUGET SOUND ENERGY INC||CITY OF TACOMA - (WA)   \n",
              "1  POINT (-122.20563 47.76144)  PUGET SOUND ENERGY INC||CITY OF TACOMA - (WA)   \n",
              "2  POINT (-122.92333 47.03779)                         PUGET SOUND ENERGY INC   \n",
              "3  POINT (-122.81754 46.98876)                         PUGET SOUND ENERGY INC   \n",
              "4  POINT (-120.53145 46.65405)                                     PACIFICORP   \n",
              "\n",
              "   2020 Census Tract  \n",
              "0       5.303302e+10  \n",
              "1       5.303302e+10  \n",
              "2       5.306701e+10  \n",
              "3       5.306701e+10  \n",
              "4       5.307700e+10  "
            ],
            "text/html": [
              "\n",
              "  <div id=\"df-d4676696-70ca-41ee-ba5c-580bc6782f3f\" class=\"colab-df-container\">\n",
              "    <div>\n",
              "<style scoped>\n",
              "    .dataframe tbody tr th:only-of-type {\n",
              "        vertical-align: middle;\n",
              "    }\n",
              "\n",
              "    .dataframe tbody tr th {\n",
              "        vertical-align: top;\n",
              "    }\n",
              "\n",
              "    .dataframe thead th {\n",
              "        text-align: right;\n",
              "    }\n",
              "</style>\n",
              "<table border=\"1\" class=\"dataframe\">\n",
              "  <thead>\n",
              "    <tr style=\"text-align: right;\">\n",
              "      <th></th>\n",
              "      <th>VIN (1-10)</th>\n",
              "      <th>County</th>\n",
              "      <th>City</th>\n",
              "      <th>State</th>\n",
              "      <th>Postal Code</th>\n",
              "      <th>Model Year</th>\n",
              "      <th>Make</th>\n",
              "      <th>Model</th>\n",
              "      <th>Electric Vehicle Type</th>\n",
              "      <th>Clean Alternative Fuel Vehicle (CAFV) Eligibility</th>\n",
              "      <th>Electric Range</th>\n",
              "      <th>Base MSRP</th>\n",
              "      <th>Legislative District</th>\n",
              "      <th>DOL Vehicle ID</th>\n",
              "      <th>Vehicle Location</th>\n",
              "      <th>Electric Utility</th>\n",
              "      <th>2020 Census Tract</th>\n",
              "    </tr>\n",
              "  </thead>\n",
              "  <tbody>\n",
              "    <tr>\n",
              "      <th>0</th>\n",
              "      <td>2T3YL4DV0E</td>\n",
              "      <td>King</td>\n",
              "      <td>Bellevue</td>\n",
              "      <td>WA</td>\n",
              "      <td>98005.0</td>\n",
              "      <td>2014</td>\n",
              "      <td>TOYOTA</td>\n",
              "      <td>RAV4</td>\n",
              "      <td>Battery Electric Vehicle (BEV)</td>\n",
              "      <td>Clean Alternative Fuel Vehicle Eligible</td>\n",
              "      <td>103.0</td>\n",
              "      <td>0.0</td>\n",
              "      <td>41.0</td>\n",
              "      <td>186450183</td>\n",
              "      <td>POINT (-122.1621 47.64441)</td>\n",
              "      <td>PUGET SOUND ENERGY INC||CITY OF TACOMA - (WA)</td>\n",
              "      <td>5.303302e+10</td>\n",
              "    </tr>\n",
              "    <tr>\n",
              "      <th>1</th>\n",
              "      <td>5YJ3E1EB6K</td>\n",
              "      <td>King</td>\n",
              "      <td>Bothell</td>\n",
              "      <td>WA</td>\n",
              "      <td>98011.0</td>\n",
              "      <td>2019</td>\n",
              "      <td>TESLA</td>\n",
              "      <td>MODEL 3</td>\n",
              "      <td>Battery Electric Vehicle (BEV)</td>\n",
              "      <td>Clean Alternative Fuel Vehicle Eligible</td>\n",
              "      <td>220.0</td>\n",
              "      <td>0.0</td>\n",
              "      <td>1.0</td>\n",
              "      <td>478093654</td>\n",
              "      <td>POINT (-122.20563 47.76144)</td>\n",
              "      <td>PUGET SOUND ENERGY INC||CITY OF TACOMA - (WA)</td>\n",
              "      <td>5.303302e+10</td>\n",
              "    </tr>\n",
              "    <tr>\n",
              "      <th>2</th>\n",
              "      <td>5UX43EU02S</td>\n",
              "      <td>Thurston</td>\n",
              "      <td>Olympia</td>\n",
              "      <td>WA</td>\n",
              "      <td>98502.0</td>\n",
              "      <td>2025</td>\n",
              "      <td>BMW</td>\n",
              "      <td>X5</td>\n",
              "      <td>Plug-in Hybrid Electric Vehicle (PHEV)</td>\n",
              "      <td>Clean Alternative Fuel Vehicle Eligible</td>\n",
              "      <td>40.0</td>\n",
              "      <td>0.0</td>\n",
              "      <td>35.0</td>\n",
              "      <td>274800718</td>\n",
              "      <td>POINT (-122.92333 47.03779)</td>\n",
              "      <td>PUGET SOUND ENERGY INC</td>\n",
              "      <td>5.306701e+10</td>\n",
              "    </tr>\n",
              "    <tr>\n",
              "      <th>3</th>\n",
              "      <td>JTMAB3FV5R</td>\n",
              "      <td>Thurston</td>\n",
              "      <td>Olympia</td>\n",
              "      <td>WA</td>\n",
              "      <td>98513.0</td>\n",
              "      <td>2024</td>\n",
              "      <td>TOYOTA</td>\n",
              "      <td>RAV4 PRIME</td>\n",
              "      <td>Plug-in Hybrid Electric Vehicle (PHEV)</td>\n",
              "      <td>Clean Alternative Fuel Vehicle Eligible</td>\n",
              "      <td>42.0</td>\n",
              "      <td>0.0</td>\n",
              "      <td>2.0</td>\n",
              "      <td>260758165</td>\n",
              "      <td>POINT (-122.81754 46.98876)</td>\n",
              "      <td>PUGET SOUND ENERGY INC</td>\n",
              "      <td>5.306701e+10</td>\n",
              "    </tr>\n",
              "    <tr>\n",
              "      <th>4</th>\n",
              "      <td>5YJYGDEE8M</td>\n",
              "      <td>Yakima</td>\n",
              "      <td>Selah</td>\n",
              "      <td>WA</td>\n",
              "      <td>98942.0</td>\n",
              "      <td>2021</td>\n",
              "      <td>TESLA</td>\n",
              "      <td>MODEL Y</td>\n",
              "      <td>Battery Electric Vehicle (BEV)</td>\n",
              "      <td>Eligibility unknown as battery range has not b...</td>\n",
              "      <td>0.0</td>\n",
              "      <td>0.0</td>\n",
              "      <td>15.0</td>\n",
              "      <td>236581355</td>\n",
              "      <td>POINT (-120.53145 46.65405)</td>\n",
              "      <td>PACIFICORP</td>\n",
              "      <td>5.307700e+10</td>\n",
              "    </tr>\n",
              "  </tbody>\n",
              "</table>\n",
              "</div>\n",
              "    <div class=\"colab-df-buttons\">\n",
              "\n",
              "  <div class=\"colab-df-container\">\n",
              "    <button class=\"colab-df-convert\" onclick=\"convertToInteractive('df-d4676696-70ca-41ee-ba5c-580bc6782f3f')\"\n",
              "            title=\"Convert this dataframe to an interactive table.\"\n",
              "            style=\"display:none;\">\n",
              "\n",
              "  <svg xmlns=\"http://www.w3.org/2000/svg\" height=\"24px\" viewBox=\"0 -960 960 960\">\n",
              "    <path d=\"M120-120v-720h720v720H120Zm60-500h600v-160H180v160Zm220 220h160v-160H400v160Zm0 220h160v-160H400v160ZM180-400h160v-160H180v160Zm440 0h160v-160H620v160ZM180-180h160v-160H180v160Zm440 0h160v-160H620v160Z\"/>\n",
              "  </svg>\n",
              "    </button>\n",
              "\n",
              "  <style>\n",
              "    .colab-df-container {\n",
              "      display:flex;\n",
              "      gap: 12px;\n",
              "    }\n",
              "\n",
              "    .colab-df-convert {\n",
              "      background-color: #E8F0FE;\n",
              "      border: none;\n",
              "      border-radius: 50%;\n",
              "      cursor: pointer;\n",
              "      display: none;\n",
              "      fill: #1967D2;\n",
              "      height: 32px;\n",
              "      padding: 0 0 0 0;\n",
              "      width: 32px;\n",
              "    }\n",
              "\n",
              "    .colab-df-convert:hover {\n",
              "      background-color: #E2EBFA;\n",
              "      box-shadow: 0px 1px 2px rgba(60, 64, 67, 0.3), 0px 1px 3px 1px rgba(60, 64, 67, 0.15);\n",
              "      fill: #174EA6;\n",
              "    }\n",
              "\n",
              "    .colab-df-buttons div {\n",
              "      margin-bottom: 4px;\n",
              "    }\n",
              "\n",
              "    [theme=dark] .colab-df-convert {\n",
              "      background-color: #3B4455;\n",
              "      fill: #D2E3FC;\n",
              "    }\n",
              "\n",
              "    [theme=dark] .colab-df-convert:hover {\n",
              "      background-color: #434B5C;\n",
              "      box-shadow: 0px 1px 3px 1px rgba(0, 0, 0, 0.15);\n",
              "      filter: drop-shadow(0px 1px 2px rgba(0, 0, 0, 0.3));\n",
              "      fill: #FFFFFF;\n",
              "    }\n",
              "  </style>\n",
              "\n",
              "    <script>\n",
              "      const buttonEl =\n",
              "        document.querySelector('#df-d4676696-70ca-41ee-ba5c-580bc6782f3f button.colab-df-convert');\n",
              "      buttonEl.style.display =\n",
              "        google.colab.kernel.accessAllowed ? 'block' : 'none';\n",
              "\n",
              "      async function convertToInteractive(key) {\n",
              "        const element = document.querySelector('#df-d4676696-70ca-41ee-ba5c-580bc6782f3f');\n",
              "        const dataTable =\n",
              "          await google.colab.kernel.invokeFunction('convertToInteractive',\n",
              "                                                    [key], {});\n",
              "        if (!dataTable) return;\n",
              "\n",
              "        const docLinkHtml = 'Like what you see? Visit the ' +\n",
              "          '<a target=\"_blank\" href=https://colab.research.google.com/notebooks/data_table.ipynb>data table notebook</a>'\n",
              "          + ' to learn more about interactive tables.';\n",
              "        element.innerHTML = '';\n",
              "        dataTable['output_type'] = 'display_data';\n",
              "        await google.colab.output.renderOutput(dataTable, element);\n",
              "        const docLink = document.createElement('div');\n",
              "        docLink.innerHTML = docLinkHtml;\n",
              "        element.appendChild(docLink);\n",
              "      }\n",
              "    </script>\n",
              "  </div>\n",
              "\n",
              "\n",
              "<div id=\"df-22733c0c-f954-470f-a8f3-50284cb0e0ff\">\n",
              "  <button class=\"colab-df-quickchart\" onclick=\"quickchart('df-22733c0c-f954-470f-a8f3-50284cb0e0ff')\"\n",
              "            title=\"Suggest charts\"\n",
              "            style=\"display:none;\">\n",
              "\n",
              "<svg xmlns=\"http://www.w3.org/2000/svg\" height=\"24px\"viewBox=\"0 0 24 24\"\n",
              "     width=\"24px\">\n",
              "    <g>\n",
              "        <path d=\"M19 3H5c-1.1 0-2 .9-2 2v14c0 1.1.9 2 2 2h14c1.1 0 2-.9 2-2V5c0-1.1-.9-2-2-2zM9 17H7v-7h2v7zm4 0h-2V7h2v10zm4 0h-2v-4h2v4z\"/>\n",
              "    </g>\n",
              "</svg>\n",
              "  </button>\n",
              "\n",
              "<style>\n",
              "  .colab-df-quickchart {\n",
              "      --bg-color: #E8F0FE;\n",
              "      --fill-color: #1967D2;\n",
              "      --hover-bg-color: #E2EBFA;\n",
              "      --hover-fill-color: #174EA6;\n",
              "      --disabled-fill-color: #AAA;\n",
              "      --disabled-bg-color: #DDD;\n",
              "  }\n",
              "\n",
              "  [theme=dark] .colab-df-quickchart {\n",
              "      --bg-color: #3B4455;\n",
              "      --fill-color: #D2E3FC;\n",
              "      --hover-bg-color: #434B5C;\n",
              "      --hover-fill-color: #FFFFFF;\n",
              "      --disabled-bg-color: #3B4455;\n",
              "      --disabled-fill-color: #666;\n",
              "  }\n",
              "\n",
              "  .colab-df-quickchart {\n",
              "    background-color: var(--bg-color);\n",
              "    border: none;\n",
              "    border-radius: 50%;\n",
              "    cursor: pointer;\n",
              "    display: none;\n",
              "    fill: var(--fill-color);\n",
              "    height: 32px;\n",
              "    padding: 0;\n",
              "    width: 32px;\n",
              "  }\n",
              "\n",
              "  .colab-df-quickchart:hover {\n",
              "    background-color: var(--hover-bg-color);\n",
              "    box-shadow: 0 1px 2px rgba(60, 64, 67, 0.3), 0 1px 3px 1px rgba(60, 64, 67, 0.15);\n",
              "    fill: var(--button-hover-fill-color);\n",
              "  }\n",
              "\n",
              "  .colab-df-quickchart-complete:disabled,\n",
              "  .colab-df-quickchart-complete:disabled:hover {\n",
              "    background-color: var(--disabled-bg-color);\n",
              "    fill: var(--disabled-fill-color);\n",
              "    box-shadow: none;\n",
              "  }\n",
              "\n",
              "  .colab-df-spinner {\n",
              "    border: 2px solid var(--fill-color);\n",
              "    border-color: transparent;\n",
              "    border-bottom-color: var(--fill-color);\n",
              "    animation:\n",
              "      spin 1s steps(1) infinite;\n",
              "  }\n",
              "\n",
              "  @keyframes spin {\n",
              "    0% {\n",
              "      border-color: transparent;\n",
              "      border-bottom-color: var(--fill-color);\n",
              "      border-left-color: var(--fill-color);\n",
              "    }\n",
              "    20% {\n",
              "      border-color: transparent;\n",
              "      border-left-color: var(--fill-color);\n",
              "      border-top-color: var(--fill-color);\n",
              "    }\n",
              "    30% {\n",
              "      border-color: transparent;\n",
              "      border-left-color: var(--fill-color);\n",
              "      border-top-color: var(--fill-color);\n",
              "      border-right-color: var(--fill-color);\n",
              "    }\n",
              "    40% {\n",
              "      border-color: transparent;\n",
              "      border-right-color: var(--fill-color);\n",
              "      border-top-color: var(--fill-color);\n",
              "    }\n",
              "    60% {\n",
              "      border-color: transparent;\n",
              "      border-right-color: var(--fill-color);\n",
              "    }\n",
              "    80% {\n",
              "      border-color: transparent;\n",
              "      border-right-color: var(--fill-color);\n",
              "      border-bottom-color: var(--fill-color);\n",
              "    }\n",
              "    90% {\n",
              "      border-color: transparent;\n",
              "      border-bottom-color: var(--fill-color);\n",
              "    }\n",
              "  }\n",
              "</style>\n",
              "\n",
              "  <script>\n",
              "    async function quickchart(key) {\n",
              "      const quickchartButtonEl =\n",
              "        document.querySelector('#' + key + ' button');\n",
              "      quickchartButtonEl.disabled = true;  // To prevent multiple clicks.\n",
              "      quickchartButtonEl.classList.add('colab-df-spinner');\n",
              "      try {\n",
              "        const charts = await google.colab.kernel.invokeFunction(\n",
              "            'suggestCharts', [key], {});\n",
              "      } catch (error) {\n",
              "        console.error('Error during call to suggestCharts:', error);\n",
              "      }\n",
              "      quickchartButtonEl.classList.remove('colab-df-spinner');\n",
              "      quickchartButtonEl.classList.add('colab-df-quickchart-complete');\n",
              "    }\n",
              "    (() => {\n",
              "      let quickchartButtonEl =\n",
              "        document.querySelector('#df-22733c0c-f954-470f-a8f3-50284cb0e0ff button');\n",
              "      quickchartButtonEl.style.display =\n",
              "        google.colab.kernel.accessAllowed ? 'block' : 'none';\n",
              "    })();\n",
              "  </script>\n",
              "</div>\n",
              "\n",
              "    </div>\n",
              "  </div>\n"
            ],
            "application/vnd.google.colaboratory.intrinsic+json": {
              "type": "dataframe",
              "variable_name": "df"
            }
          },
          "metadata": {},
          "execution_count": 47
        }
      ]
    },
    {
      "cell_type": "code",
      "source": [
        "# Informações em geral do dataset: os nomes das colunas, quantas linhas estão preenchidas e os tipos de dados em cada coluna\n",
        "\n",
        "df.info()"
      ],
      "metadata": {
        "colab": {
          "base_uri": "https://localhost:8080/"
        },
        "id": "hR3zVzFmQjYb",
        "outputId": "3a43181c-568f-4443-8a28-232b5926a2d5"
      },
      "execution_count": 48,
      "outputs": [
        {
          "output_type": "stream",
          "name": "stdout",
          "text": [
            "<class 'pandas.core.frame.DataFrame'>\n",
            "RangeIndex: 232230 entries, 0 to 232229\n",
            "Data columns (total 17 columns):\n",
            " #   Column                                             Non-Null Count   Dtype  \n",
            "---  ------                                             --------------   -----  \n",
            " 0   VIN (1-10)                                         232230 non-null  object \n",
            " 1   County                                             232226 non-null  object \n",
            " 2   City                                               232226 non-null  object \n",
            " 3   State                                              232230 non-null  object \n",
            " 4   Postal Code                                        232226 non-null  float64\n",
            " 5   Model Year                                         232230 non-null  int64  \n",
            " 6   Make                                               232230 non-null  object \n",
            " 7   Model                                              232230 non-null  object \n",
            " 8   Electric Vehicle Type                              232230 non-null  object \n",
            " 9   Clean Alternative Fuel Vehicle (CAFV) Eligibility  232230 non-null  object \n",
            " 10  Electric Range                                     232203 non-null  float64\n",
            " 11  Base MSRP                                          232203 non-null  float64\n",
            " 12  Legislative District                               231749 non-null  float64\n",
            " 13  DOL Vehicle ID                                     232230 non-null  int64  \n",
            " 14  Vehicle Location                                   232219 non-null  object \n",
            " 15  Electric Utility                                   232226 non-null  object \n",
            " 16  2020 Census Tract                                  232226 non-null  float64\n",
            "dtypes: float64(5), int64(2), object(10)\n",
            "memory usage: 30.1+ MB\n"
          ]
        }
      ]
    },
    {
      "cell_type": "markdown",
      "source": [
        "## Limpando as colunas:"
      ],
      "metadata": {
        "id": "J4ASR9ejWfSR"
      }
    },
    {
      "cell_type": "code",
      "source": [
        "# Verificar a quantidade de valores ausentes por coluna\n",
        "valores_ausentes = df.isnull().sum()\n",
        "print(valores_ausentes[valores_ausentes > 0])"
      ],
      "metadata": {
        "colab": {
          "base_uri": "https://localhost:8080/"
        },
        "id": "UWaFwIJDQmMp",
        "outputId": "9f388ae4-ce15-4393-f3ad-1a0d63948fe2"
      },
      "execution_count": 49,
      "outputs": [
        {
          "output_type": "stream",
          "name": "stdout",
          "text": [
            "County                    4\n",
            "City                      4\n",
            "Postal Code               4\n",
            "Electric Range           27\n",
            "Base MSRP                27\n",
            "Legislative District    481\n",
            "Vehicle Location         11\n",
            "Electric Utility          4\n",
            "2020 Census Tract         4\n",
            "dtype: int64\n"
          ]
        }
      ]
    },
    {
      "cell_type": "code",
      "source": [
        "# Visualizar a porcentagem de valores ausentes\n",
        "porcentagem_ausentes = (df.isnull().mean() * 100)\n",
        "print(porcentagem_ausentes[porcentagem_ausentes > 0])"
      ],
      "metadata": {
        "colab": {
          "base_uri": "https://localhost:8080/"
        },
        "id": "YXNMntr6orBh",
        "outputId": "17695a03-8c05-4fca-964e-1876702cecf7"
      },
      "execution_count": 50,
      "outputs": [
        {
          "output_type": "stream",
          "name": "stdout",
          "text": [
            "County                  0.001722\n",
            "City                    0.001722\n",
            "Postal Code             0.001722\n",
            "Electric Range          0.011626\n",
            "Base MSRP               0.011626\n",
            "Legislative District    0.207122\n",
            "Vehicle Location        0.004737\n",
            "Electric Utility        0.001722\n",
            "2020 Census Tract       0.001722\n",
            "dtype: float64\n"
          ]
        }
      ]
    },
    {
      "cell_type": "code",
      "source": [
        "col_falt_num = []\n",
        "col_falt_obj = []\n",
        "\n",
        "for col in df.columns:\n",
        "    if df[col].isnull().sum() > 0:  # Verifica se há valores ausentes\n",
        "        if df[col].dtype == 'object':  # Se a coluna for do tipo 'object'\n",
        "            col_falt_obj.append(col)\n",
        "        else:  # Se a coluna for do tipo numérico\n",
        "            col_falt_num.append(col)"
      ],
      "metadata": {
        "id": "8LR2ebNuqZso"
      },
      "execution_count": 51,
      "outputs": []
    },
    {
      "cell_type": "code",
      "source": [
        "col_falt_obj"
      ],
      "metadata": {
        "colab": {
          "base_uri": "https://localhost:8080/"
        },
        "id": "k6U0CL_iqjK-",
        "outputId": "9993bda5-ff53-453e-8dd6-911cb366f110"
      },
      "execution_count": 52,
      "outputs": [
        {
          "output_type": "execute_result",
          "data": {
            "text/plain": [
              "['County', 'City', 'Vehicle Location', 'Electric Utility']"
            ]
          },
          "metadata": {},
          "execution_count": 52
        }
      ]
    },
    {
      "cell_type": "code",
      "source": [
        "col_falt_num"
      ],
      "metadata": {
        "colab": {
          "base_uri": "https://localhost:8080/"
        },
        "id": "nMoR0VVrqkOn",
        "outputId": "edce9fc9-edfa-4a37-ad1c-da4513894199"
      },
      "execution_count": 53,
      "outputs": [
        {
          "output_type": "execute_result",
          "data": {
            "text/plain": [
              "['Postal Code',\n",
              " 'Electric Range',\n",
              " 'Base MSRP',\n",
              " 'Legislative District',\n",
              " '2020 Census Tract']"
            ]
          },
          "metadata": {},
          "execution_count": 53
        }
      ]
    },
    {
      "cell_type": "code",
      "source": [
        "# Para colunas numéricas, preenchemos com a média ou mediana\n",
        "for col in col_falt_num:\n",
        "    if df[col].dtype == 'float64':  # Só consideramos float64 como numéricas\n",
        "      mean_value = df[col].mean()\n",
        "      df[col].fillna(mean_value, inplace=True)  # Ou você pode usar .median()\n"
      ],
      "metadata": {
        "id": "kZxgP3BSVpD6",
        "colab": {
          "base_uri": "https://localhost:8080/"
        },
        "outputId": "efc54412-2bb6-408a-85ec-1a33616368c4"
      },
      "execution_count": 54,
      "outputs": [
        {
          "output_type": "stream",
          "name": "stderr",
          "text": [
            "<ipython-input-54-45da8c9b790d>:5: FutureWarning: A value is trying to be set on a copy of a DataFrame or Series through chained assignment using an inplace method.\n",
            "The behavior will change in pandas 3.0. This inplace method will never work because the intermediate object on which we are setting values always behaves as a copy.\n",
            "\n",
            "For example, when doing 'df[col].method(value, inplace=True)', try using 'df.method({col: value}, inplace=True)' or df[col] = df[col].method(value) instead, to perform the operation inplace on the original object.\n",
            "\n",
            "\n",
            "  df[col].fillna(mean_value, inplace=True)  # Ou você pode usar .median()\n"
          ]
        }
      ]
    },
    {
      "cell_type": "code",
      "source": [
        "# Para colunas de objetos, preenchemos com a moda\n",
        "for col in col_falt_obj:\n",
        "    if df[col].dtype == 'object':  # Só consideramos tipo objeto\n",
        "        df[col].fillna(df[col].mode()[0], inplace=True)  # Moda, ou seja, o valor mais frequente"
      ],
      "metadata": {
        "id": "jPaBL97eVrgL",
        "colab": {
          "base_uri": "https://localhost:8080/"
        },
        "outputId": "b134fd6d-8d47-4540-d40f-ae72b6ab01c0"
      },
      "execution_count": 55,
      "outputs": [
        {
          "output_type": "stream",
          "name": "stderr",
          "text": [
            "<ipython-input-55-06c4476d09ee>:4: FutureWarning: A value is trying to be set on a copy of a DataFrame or Series through chained assignment using an inplace method.\n",
            "The behavior will change in pandas 3.0. This inplace method will never work because the intermediate object on which we are setting values always behaves as a copy.\n",
            "\n",
            "For example, when doing 'df[col].method(value, inplace=True)', try using 'df.method({col: value}, inplace=True)' or df[col] = df[col].method(value) instead, to perform the operation inplace on the original object.\n",
            "\n",
            "\n",
            "  df[col].fillna(df[col].mode()[0], inplace=True)  # Moda, ou seja, o valor mais frequente\n"
          ]
        }
      ]
    },
    {
      "cell_type": "code",
      "source": [
        "# Verificar se ainda existem valores ausentes\n",
        "print(df.isnull().sum().sum())  # Se o resultado for 0, não há mais valores ausentes\n"
      ],
      "metadata": {
        "colab": {
          "base_uri": "https://localhost:8080/"
        },
        "id": "GRIL_n6SVx0P",
        "outputId": "2e74ad30-0263-40b1-eebc-3f70b51273a0"
      },
      "execution_count": 56,
      "outputs": [
        {
          "output_type": "stream",
          "name": "stdout",
          "text": [
            "0\n"
          ]
        }
      ]
    },
    {
      "cell_type": "code",
      "source": [
        "# Verificar se há valores duplicados no dataset\n",
        "duplicados = df.duplicated().sum()\n",
        "print(f'Número de registros duplicados no dataset: {duplicados}')\n",
        "\n",
        "# Excluir registros duplicados, se houver\n",
        "df = df.drop_duplicates()\n"
      ],
      "metadata": {
        "colab": {
          "base_uri": "https://localhost:8080/"
        },
        "id": "woDSf_w_VBgY",
        "outputId": "b4c58cb7-86c8-49ab-f31d-5c1d2f474aab"
      },
      "execution_count": 57,
      "outputs": [
        {
          "output_type": "stream",
          "name": "stdout",
          "text": [
            "Número de registros duplicados no dataset: 0\n"
          ]
        }
      ]
    },
    {
      "cell_type": "markdown",
      "source": [
        "## EDA"
      ],
      "metadata": {
        "id": "WuOj-WckYc43"
      }
    },
    {
      "cell_type": "code",
      "source": [
        "# A ideia é agrupar o dataset em dois valores, obje para as colunas objetivas e num para as colunas numericas, vamos usar isso futuramente\n",
        "\n",
        "col_obj = []\n",
        "col_num = []\n",
        "\n",
        "for col in df.columns:\n",
        "    if df[col].dtype == 'object':\n",
        "        col_obj.append(col)\n",
        "    else :\n",
        "        col_num.append(col)"
      ],
      "metadata": {
        "id": "gwlORKWOYgXa"
      },
      "execution_count": 58,
      "outputs": []
    },
    {
      "cell_type": "code",
      "source": [
        "col_pular = [\n",
        "    'VIN (1-10)','County','City','Model','Vehicle Location','Electric Utility'\n",
        "    ]\n",
        "for col in col_obj:\n",
        "  if col in col_pular:\n",
        "    continue\n",
        "  plt.figure(figsize=(10, 6))\n",
        "  plt.title(f\"Frequência de: {col}\")\n",
        "  plt.xlabel(f\"{col}\")\n",
        "  plt.ylabel(\"Frequência\")\n",
        "  sns.countplot(data=df, x=col, palette=\"Set2\")\n",
        "  plt.xticks(rotation=90)\n",
        "  plt.show()  # Exibe o gráfico\n",
        "  # Conta a frequência dos valores na coluna\n",
        "  qtd = df[col].value_counts().reset_index(name='Frequência')\n",
        "  qtd.columns = [col, 'Frequência']\n",
        "  # Imprime as frequências\n",
        "  print(f'Frequência da coluna {col}:')\n",
        "  print(qtd)\n",
        "  print(\"\\n\")"
      ],
      "metadata": {
        "colab": {
          "base_uri": "https://localhost:8080/",
          "height": 1000
        },
        "id": "a-pZZmC1ZAqb",
        "outputId": "5f7a1d2e-7be3-40f6-c77a-aa600004193d"
      },
      "execution_count": 59,
      "outputs": [
        {
          "output_type": "stream",
          "name": "stderr",
          "text": [
            "<ipython-input-59-36ae585cc2ec>:11: FutureWarning: \n",
            "\n",
            "Passing `palette` without assigning `hue` is deprecated and will be removed in v0.14.0. Assign the `x` variable to `hue` and set `legend=False` for the same effect.\n",
            "\n",
            "  sns.countplot(data=df, x=col, palette=\"Set2\")\n"
          ]
        },
        {
          "output_type": "display_data",
          "data": {
            "text/plain": [
              "<Figure size 1000x600 with 1 Axes>"
            ],
            "image/png": "[encoded data removed]"
          },
          "metadata": {}
        },
        {
          "output_type": "stream",
          "name": "stdout",
          "text": [
            "Frequência da coluna State:\n",
            "   State  Frequência\n",
            "0     WA      231749\n",
            "1     CA         116\n",
            "2     VA          62\n",
            "3     MD          36\n",
            "4     TX          30\n",
            "5     NC          18\n",
            "6     CO          18\n",
            "7     FL          16\n",
            "8     GA          14\n",
            "9     NY          12\n",
            "10    NV          12\n",
            "11    NJ           9\n",
            "12    CT           9\n",
            "13    IL           8\n",
            "14    AZ           8\n",
            "15    AL           8\n",
            "16    MA           8\n",
            "17    OR           8\n",
            "18    KS           8\n",
            "19    MO           8\n",
            "20    HI           7\n",
            "21    SC           6\n",
            "22    MI           6\n",
            "23    PA           5\n",
            "24    KY           5\n",
            "25    RI           4\n",
            "26    OH           4\n",
            "27    TN           4\n",
            "28    DC           4\n",
            "29    NE           3\n",
            "30    ID           3\n",
            "31    ME           2\n",
            "32    AR           2\n",
            "33    UT           2\n",
            "34    NM           2\n",
            "35    AK           1\n",
            "36    NH           1\n",
            "37    AE           1\n",
            "38    DE           1\n",
            "39    IN           1\n",
            "40    OK           1\n",
            "41    WI           1\n",
            "42    WY           1\n",
            "43    MN           1\n",
            "44    BC           1\n",
            "45    AP           1\n",
            "46    LA           1\n",
            "47    NS           1\n",
            "48    MS           1\n",
            "\n",
            "\n"
          ]
        },
        {
          "output_type": "stream",
          "name": "stderr",
          "text": [
            "<ipython-input-59-36ae585cc2ec>:11: FutureWarning: \n",
            "\n",
            "Passing `palette` without assigning `hue` is deprecated and will be removed in v0.14.0. Assign the `x` variable to `hue` and set `legend=False` for the same effect.\n",
            "\n",
            "  sns.countplot(data=df, x=col, palette=\"Set2\")\n"
          ]
        },
        {
          "output_type": "display_data",
          "data": {
            "text/plain": [
              "<Figure size 1000x600 with 1 Axes>"
            ],
            "image/png": "[encoded data removed]"
          },
          "metadata": {}
        },
        {
          "output_type": "stream",
          "name": "stdout",
          "text": [
            "Frequência da coluna Make:\n",
            "                      Make  Frequência\n",
            "0                    TESLA       99692\n",
            "1                CHEVROLET       16919\n",
            "2                   NISSAN       15457\n",
            "3                     FORD       12461\n",
            "4                      KIA       11224\n",
            "5                      BMW        9505\n",
            "6                   TOYOTA        9265\n",
            "7                  HYUNDAI        7218\n",
            "8                   RIVIAN        6712\n",
            "9                     JEEP        5920\n",
            "10              VOLKSWAGEN        5859\n",
            "11                   VOLVO        5794\n",
            "12                    AUDI        4286\n",
            "13                CHRYSLER        3773\n",
            "14           MERCEDES-BENZ        2337\n",
            "15                   HONDA        2003\n",
            "16                  SUBARU        1915\n",
            "17                 PORSCHE        1433\n",
            "18                POLESTAR        1226\n",
            "19                CADILLAC        1107\n",
            "20                    MINI        1107\n",
            "21              MITSUBISHI        1095\n",
            "22                   MAZDA         980\n",
            "23                   LEXUS         915\n",
            "24                    FIAT         770\n",
            "25                   DODGE         766\n",
            "26                   LUCID         374\n",
            "27                 LINCOLN         356\n",
            "28                 GENESIS         338\n",
            "29                     GMC         338\n",
            "30                   SMART         241\n",
            "31                  JAGUAR         239\n",
            "32                  FISKER         181\n",
            "33                   ACURA         175\n",
            "34              LAND ROVER         117\n",
            "35              ALFA ROMEO          95\n",
            "36                   TH!NK           5\n",
            "37              BRIGHTDROP           5\n",
            "38             LAMBORGHINI           5\n",
            "39                 BENTLEY           5\n",
            "40             ROLLS-ROYCE           4\n",
            "41          AZURE DYNAMICS           4\n",
            "42    WHEEGO ELECTRIC CARS           3\n",
            "43                 VINFAST           2\n",
            "44  MULLEN AUTOMOTIVE INC.           2\n",
            "45                     RAM           2\n",
            "\n",
            "\n"
          ]
        },
        {
          "output_type": "stream",
          "name": "stderr",
          "text": [
            "<ipython-input-59-36ae585cc2ec>:11: FutureWarning: \n",
            "\n",
            "Passing `palette` without assigning `hue` is deprecated and will be removed in v0.14.0. Assign the `x` variable to `hue` and set `legend=False` for the same effect.\n",
            "\n",
            "  sns.countplot(data=df, x=col, palette=\"Set2\")\n"
          ]
        },
        {
          "output_type": "display_data",
          "data": {
            "text/plain": [
              "<Figure size 1000x600 with 1 Axes>"
            ],
            "image/png": "[encoded data removed]"
          },
          "metadata": {}
        },
        {
          "output_type": "stream",
          "name": "stdout",
          "text": [
            "Frequência da coluna Electric Vehicle Type:\n",
            "                    Electric Vehicle Type  Frequência\n",
            "0          Battery Electric Vehicle (BEV)      184054\n",
            "1  Plug-in Hybrid Electric Vehicle (PHEV)       48176\n",
            "\n",
            "\n"
          ]
        },
        {
          "output_type": "stream",
          "name": "stderr",
          "text": [
            "<ipython-input-59-36ae585cc2ec>:11: FutureWarning: \n",
            "\n",
            "Passing `palette` without assigning `hue` is deprecated and will be removed in v0.14.0. Assign the `x` variable to `hue` and set `legend=False` for the same effect.\n",
            "\n",
            "  sns.countplot(data=df, x=col, palette=\"Set2\")\n"
          ]
        },
        {
          "output_type": "display_data",
          "data": {
            "text/plain": [
              "<Figure size 1000x600 with 1 Axes>"
            ],
            "image/png": "[encoded data removed]"
          },
          "metadata": {}
        },
        {
          "output_type": "stream",
          "name": "stdout",
          "text": [
            "Frequência da coluna Clean Alternative Fuel Vehicle (CAFV) Eligibility:\n",
            "   Clean Alternative Fuel Vehicle (CAFV) Eligibility  Frequência\n",
            "0  Eligibility unknown as battery range has not b...      136865\n",
            "1            Clean Alternative Fuel Vehicle Eligible       72847\n",
            "2              Not eligible due to low battery range       22518\n",
            "\n",
            "\n"
          ]
        }
      ]
    },
    {
      "cell_type": "code",
      "source": [
        "for col in col_num:\n",
        "  # Conta a frequência dos valores na coluna\n",
        "  qtd = df[col].value_counts().reset_index(name='Frequência')\n",
        "  qtd.columns = [col, 'Frequência']\n",
        "  # Imprime as frequências\n",
        "  print(f'Frequência da coluna {col}:')\n",
        "  print(qtd)\n",
        "  print(\"\\n\")"
      ],
      "metadata": {
        "colab": {
          "base_uri": "https://localhost:8080/"
        },
        "id": "el-zMF6sO5tc",
        "outputId": "e1aa71e0-3d46-45fa-f1e5-f6d54668930b"
      },
      "execution_count": 60,
      "outputs": [
        {
          "output_type": "stream",
          "name": "stdout",
          "text": [
            "Frequência da coluna Postal Code:\n",
            "     Postal Code  Frequência\n",
            "0        98052.0        5730\n",
            "1        98012.0        4385\n",
            "2        98033.0        3784\n",
            "3        98006.0        3600\n",
            "4        98004.0        3423\n",
            "..           ...         ...\n",
            "946      44145.0           1\n",
            "947      89044.0           1\n",
            "948      77002.0           1\n",
            "949      20744.0           1\n",
            "950       4412.0           1\n",
            "\n",
            "[951 rows x 2 columns]\n",
            "\n",
            "\n",
            "Frequência da coluna Model Year:\n",
            "    Model Year  Frequência\n",
            "0         2023       59808\n",
            "1         2024       47920\n",
            "2         2022       28930\n",
            "3         2021       20565\n",
            "4         2018       14298\n",
            "5         2020       12248\n",
            "6         2019       10965\n",
            "7         2025        8915\n",
            "8         2017        8551\n",
            "9         2016        5375\n",
            "10        2015        4688\n",
            "11        2013        4263\n",
            "12        2014        3432\n",
            "13        2012        1523\n",
            "14        2011         692\n",
            "15        2010          23\n",
            "16        2008          22\n",
            "17        2000           7\n",
            "18        2002           2\n",
            "19        1999           2\n",
            "20        2003           1\n",
            "\n",
            "\n",
            "Frequência da coluna Electric Range:\n",
            "     Electric Range  Frequência\n",
            "0               0.0      136865\n",
            "1             215.0        6363\n",
            "2              32.0        5378\n",
            "3              25.0        4636\n",
            "4              21.0        4555\n",
            "..              ...         ...\n",
            "105            51.0           5\n",
            "106            11.0           4\n",
            "107            95.0           3\n",
            "108            57.0           2\n",
            "109            74.0           2\n",
            "\n",
            "[110 rows x 2 columns]\n",
            "\n",
            "\n",
            "Frequência da coluna Base MSRP:\n",
            "        Base MSRP  Frequência\n",
            "0        0.000000      228926\n",
            "1    69900.000000        1320\n",
            "2    31950.000000         368\n",
            "3    52900.000000         220\n",
            "4    32250.000000         138\n",
            "5    59900.000000         127\n",
            "6    54950.000000         119\n",
            "7    39995.000000         117\n",
            "8    36900.000000         104\n",
            "9    44100.000000          92\n",
            "10   64950.000000          88\n",
            "11   45600.000000          78\n",
            "12   52650.000000          72\n",
            "13   33950.000000          71\n",
            "14   34995.000000          66\n",
            "15   55700.000000          58\n",
            "16   36800.000000          55\n",
            "17   53400.000000          39\n",
            "18     803.808973          27\n",
            "19   81100.000000          23\n",
            "20   98950.000000          21\n",
            "21  110950.000000          20\n",
            "22   90700.000000          17\n",
            "23   75095.000000          13\n",
            "24  102000.000000          11\n",
            "25  184400.000000          10\n",
            "26   43700.000000           8\n",
            "27  109000.000000           7\n",
            "28   89100.000000           7\n",
            "29   91250.000000           4\n",
            "30   32995.000000           3\n",
            "31  845000.000000           1\n",
            "\n",
            "\n",
            "Frequência da coluna Legislative District:\n",
            "    Legislative District  Frequência\n",
            "0              41.000000       14379\n",
            "1              45.000000       13257\n",
            "2              48.000000       12384\n",
            "3               1.000000       10032\n",
            "4               5.000000        9838\n",
            "5              11.000000        9497\n",
            "6              36.000000        9103\n",
            "7              46.000000        8562\n",
            "8              43.000000        7978\n",
            "9              37.000000        6662\n",
            "10             34.000000        6655\n",
            "11             44.000000        6422\n",
            "12             18.000000        6254\n",
            "13             21.000000        5878\n",
            "14             22.000000        5747\n",
            "15             32.000000        5651\n",
            "16             23.000000        4966\n",
            "17             40.000000        4817\n",
            "18             26.000000        4648\n",
            "19             47.000000        4581\n",
            "20             31.000000        4335\n",
            "21             33.000000        4221\n",
            "22             10.000000        4096\n",
            "23             17.000000        3957\n",
            "24             39.000000        3543\n",
            "25             35.000000        3387\n",
            "26             49.000000        3323\n",
            "27             42.000000        3314\n",
            "28             27.000000        3295\n",
            "29             28.000000        3161\n",
            "30             24.000000        3085\n",
            "31             30.000000        2972\n",
            "32              2.000000        2815\n",
            "33             25.000000        2647\n",
            "34             38.000000        2561\n",
            "35              8.000000        2527\n",
            "36              6.000000        2401\n",
            "37             12.000000        2227\n",
            "38             20.000000        2183\n",
            "39              4.000000        2144\n",
            "40             29.000000        1797\n",
            "41             13.000000        1740\n",
            "42             14.000000        1600\n",
            "43             19.000000        1406\n",
            "44              9.000000        1382\n",
            "45             16.000000        1298\n",
            "46              3.000000        1218\n",
            "47              7.000000        1142\n",
            "48             15.000000         661\n",
            "49             28.880979         481\n",
            "\n",
            "\n",
            "Frequência da coluna DOL Vehicle ID:\n",
            "        DOL Vehicle ID  Frequência\n",
            "0            186450183           1\n",
            "1            244598371           1\n",
            "2            228812741           1\n",
            "3            258812627           1\n",
            "4            249805601           1\n",
            "...                ...         ...\n",
            "232225       142874497           1\n",
            "232226       238128117           1\n",
            "232227       275211380           1\n",
            "232228       272008131           1\n",
            "232229       138217341           1\n",
            "\n",
            "[232230 rows x 2 columns]\n",
            "\n",
            "\n",
            "Frequência da coluna 2020 Census Tract:\n",
            "      2020 Census Tract  Frequência\n",
            "0          5.303303e+10        2647\n",
            "1          5.303303e+10        1173\n",
            "2          5.303303e+10         979\n",
            "3          5.303301e+10         914\n",
            "4          5.306701e+10         837\n",
            "...                 ...         ...\n",
            "2187       1.203101e+10           1\n",
            "2188       4.013813e+09           1\n",
            "2189       3.911304e+10           1\n",
            "2190       6.061021e+09           1\n",
            "2191       2.301900e+10           1\n",
            "\n",
            "[2192 rows x 2 columns]\n",
            "\n",
            "\n"
          ]
        }
      ]
    },
    {
      "cell_type": "markdown",
      "source": [
        "# ML"
      ],
      "metadata": {
        "id": "RFFQLkV_R3MF"
      }
    },
    {
      "cell_type": "code",
      "source": [
        "from sklearn.model_selection import train_test_split\n",
        "from sklearn.preprocessing import LabelEncoder\n",
        "from sklearn.ensemble import RandomForestClassifier\n",
        "from sklearn.metrics import accuracy_score\n",
        "from sklearn.neighbors import KNeighborsClassifier\n",
        "from sklearn.linear_model import LogisticRegression"
      ],
      "metadata": {
        "id": "uAzvX4wWR8DE"
      },
      "execution_count": 75,
      "outputs": []
    },
    {
      "cell_type": "code",
      "source": [
        "# Função para dividir o dataset em partes menores\n",
        "def chunkify(X, y, chunk_size=50000):\n",
        "    # Divide o conjunto de dados em partes menores\n",
        "    for start in range(0, len(X), chunk_size):\n",
        "        end = min(start + chunk_size, len(X))\n",
        "        yield X[start:end], y[start:end]"
      ],
      "metadata": {
        "id": "fW7StCSW-5_C"
      },
      "execution_count": 62,
      "outputs": []
    },
    {
      "cell_type": "code",
      "source": [
        "# Carregar os dados (supondo que 'df' seja seu dataframe)\n",
        "X = df.drop(columns=['Make'])  # Remover a coluna 'Make'\n",
        "y = df['Make']  # A variável alvo"
      ],
      "metadata": {
        "id": "ns06d-YzC95M"
      },
      "execution_count": 63,
      "outputs": []
    },
    {
      "cell_type": "code",
      "source": [
        "# Selecionar apenas colunas numéricas para o treinamento\n",
        "numerical_cols = X.select_dtypes(include=np.number).columns\n",
        "X = X[numerical_cols]"
      ],
      "metadata": {
        "id": "4vYaQ4OaDErZ"
      },
      "execution_count": 64,
      "outputs": []
    },
    {
      "cell_type": "code",
      "source": [
        "# Dividir os dados em treino e teste\n",
        "X_train, X_test, y_train, y_test = train_test_split(X, y, test_size=0.3, random_state=42)"
      ],
      "metadata": {
        "id": "mi5TO-npDHEG"
      },
      "execution_count": 65,
      "outputs": []
    },
    {
      "cell_type": "markdown",
      "source": [
        "## RandomForestClassifier"
      ],
      "metadata": {
        "id": "H9QF_j0YErzu"
      }
    },
    {
      "cell_type": "code",
      "source": [
        "# Inicializar o modelo de RandomForest (no caso de memórias limitadas, mantenha um número razoável de estimadores)\n",
        "model = RandomForestClassifier(n_estimators=100, random_state=42)"
      ],
      "metadata": {
        "id": "MZ0_mEYPDJde"
      },
      "execution_count": 66,
      "outputs": []
    },
    {
      "cell_type": "code",
      "source": [
        "# Avaliar a acurácia\n",
        "total_accuracy = 0\n",
        "num_chunks = 0\n",
        "\n",
        "# Dividir o conjunto de dados em pedaços menores e treinar\n",
        "for X_chunk, y_chunk in chunkify(X_train, y_train, chunk_size=50000):\n",
        "    model.fit(X_chunk, y_chunk)  # Treinamento em cada pedaço\n",
        "    num_chunks += 1\n",
        "\n",
        "# Agora, fazer as previsões no conjunto de teste\n",
        "\n",
        "X_test = X_test[numerical_cols]\n",
        "y_pred = model.predict(X_test)\n",
        "\n",
        "# Avaliar o modelo com a precisão final\n",
        "accuracy = accuracy_score(y_test, y_pred)\n",
        "print(\"Acurácia final do modelo:\", accuracy)\n"
      ],
      "metadata": {
        "colab": {
          "base_uri": "https://localhost:8080/"
        },
        "id": "d0CWN02B_lED",
        "outputId": "b5dad75f-e43e-4e47-e9da-60e23c744b19"
      },
      "execution_count": 67,
      "outputs": [
        {
          "output_type": "stream",
          "name": "stdout",
          "text": [
            "Acurácia final do modelo: 0.5996067117369275\n"
          ]
        }
      ]
    },
    {
      "cell_type": "markdown",
      "source": [
        "## KNN"
      ],
      "metadata": {
        "id": "kCo9qQhDJxlI"
      }
    },
    {
      "cell_type": "code",
      "source": [
        "# Inicializando o modelo KNN\n",
        "model_knn = KNeighborsClassifier(n_neighbors=5)\n",
        "\n",
        "# Dividir o dataset e treinar de pedaço por pedaço\n",
        "for X_chunk, y_chunk in chunkify(X_train, y_train, chunk_size=50000):\n",
        "    model_knn.fit(X_chunk, y_chunk)"
      ],
      "metadata": {
        "id": "funJmo7JJPkz"
      },
      "execution_count": 76,
      "outputs": []
    },
    {
      "cell_type": "code",
      "source": [
        "# Agora, fazer as previsões no conjunto de teste\n",
        "\n",
        "X_test = X_test[numerical_cols]\n",
        "y_pred = model_knn.predict(X_test)\n",
        "\n",
        "# Avaliar o modelo com a precisão final\n",
        "accuracy = accuracy_score(y_test, y_pred)\n",
        "print(\"Acurácia final do modelo:\", accuracy)"
      ],
      "metadata": {
        "colab": {
          "base_uri": "https://localhost:8080/"
        },
        "id": "HVs8dtF9Jl7g",
        "outputId": "bb280a81-2914-4930-99c5-f5904a143795"
      },
      "execution_count": 73,
      "outputs": [
        {
          "output_type": "stream",
          "name": "stdout",
          "text": [
            "Acurácia final do modelo: 0.3145301353543183\n"
          ]
        }
      ]
    },
    {
      "cell_type": "markdown",
      "source": [
        "## Regressão Logistica"
      ],
      "metadata": {
        "id": "vMegQ26vJ5BM"
      }
    },
    {
      "cell_type": "code",
      "source": [
        "# Inicializando o modelo KNN\n",
        "model_rl = LogisticRegression(max_iter=50000, random_state=42)\n",
        "\n",
        "# Dividir o dataset e treinar de pedaço por pedaço\n",
        "for X_chunk, y_chunk in chunkify(X_train, y_train, chunk_size=50000):\n",
        "    model_rl.fit(X_chunk, y_chunk)"
      ],
      "metadata": {
        "colab": {
          "base_uri": "https://localhost:8080/"
        },
        "id": "gPTDAMByJ8kN",
        "outputId": "692e522f-00bf-4c7c-a87e-5cfe123e117b"
      },
      "execution_count": 78,
      "outputs": [
        {
          "output_type": "stream",
          "name": "stderr",
          "text": [
            "/usr/local/lib/python3.11/dist-packages/sklearn/linear_model/_logistic.py:465: ConvergenceWarning: lbfgs failed to converge (status=1):\n",
            "STOP: TOTAL NO. of f AND g EVALUATIONS EXCEEDS LIMIT.\n",
            "\n",
            "Increase the number of iterations (max_iter) or scale the data as shown in:\n",
            "    https://scikit-learn.org/stable/modules/preprocessing.html\n",
            "Please also refer to the documentation for alternative solver options:\n",
            "    https://scikit-learn.org/stable/modules/linear_model.html#logistic-regression\n",
            "  n_iter_i = _check_optimize_result(\n",
            "/usr/local/lib/python3.11/dist-packages/sklearn/linear_model/_logistic.py:465: ConvergenceWarning: lbfgs failed to converge (status=1):\n",
            "STOP: TOTAL NO. of f AND g EVALUATIONS EXCEEDS LIMIT.\n",
            "\n",
            "Increase the number of iterations (max_iter) or scale the data as shown in:\n",
            "    https://scikit-learn.org/stable/modules/preprocessing.html\n",
            "Please also refer to the documentation for alternative solver options:\n",
            "    https://scikit-learn.org/stable/modules/linear_model.html#logistic-regression\n",
            "  n_iter_i = _check_optimize_result(\n",
            "/usr/local/lib/python3.11/dist-packages/sklearn/linear_model/_logistic.py:465: ConvergenceWarning: lbfgs failed to converge (status=1):\n",
            "STOP: TOTAL NO. of f AND g EVALUATIONS EXCEEDS LIMIT.\n",
            "\n",
            "Increase the number of iterations (max_iter) or scale the data as shown in:\n",
            "    https://scikit-learn.org/stable/modules/preprocessing.html\n",
            "Please also refer to the documentation for alternative solver options:\n",
            "    https://scikit-learn.org/stable/modules/linear_model.html#logistic-regression\n",
            "  n_iter_i = _check_optimize_result(\n",
            "/usr/local/lib/python3.11/dist-packages/sklearn/linear_model/_logistic.py:465: ConvergenceWarning: lbfgs failed to converge (status=1):\n",
            "STOP: TOTAL NO. of f AND g EVALUATIONS EXCEEDS LIMIT.\n",
            "\n",
            "Increase the number of iterations (max_iter) or scale the data as shown in:\n",
            "    https://scikit-learn.org/stable/modules/preprocessing.html\n",
            "Please also refer to the documentation for alternative solver options:\n",
            "    https://scikit-learn.org/stable/modules/linear_model.html#logistic-regression\n",
            "  n_iter_i = _check_optimize_result(\n"
          ]
        }
      ]
    },
    {
      "cell_type": "code",
      "source": [
        "# Agora, fazer as previsões no conjunto de teste\n",
        "# Certifique-se de que X_test tenha apenas as colunas numéricas usadas no treinamento\n",
        "X_test = X_test[numerical_cols]\n",
        "y_pred = model_rl.predict(X_test)\n",
        "\n",
        "# Avaliar o modelo com a precisão final\n",
        "accuracy = accuracy_score(y_test, y_pred)\n",
        "print(\"Acurácia final do modelo:\", accuracy)"
      ],
      "metadata": {
        "colab": {
          "base_uri": "https://localhost:8080/"
        },
        "id": "DW57n1hVJ8xM",
        "outputId": "fde1da61-20e5-4e7a-d7a7-ed2c170354dd"
      },
      "execution_count": 79,
      "outputs": [
        {
          "output_type": "stream",
          "name": "stdout",
          "text": [
            "Acurácia final do modelo: 0.4308228910993412\n"
          ]
        }
      ]
    }
  ],
  "metadata": {
    "colab": {
      "provenance": [],
      "toc_visible": true,
      "authorship_tag": "ABX9TyOOoXuzaFR9GCezSwEpajNT",
      "include_colab_link": true
    },
    "kernelspec": {
      "display_name": "Python 3",
      "name": "python3"
    },
    "language_info": {
      "name": "python"
    }
  },
  "nbformat": 4,
  "nbformat_minor": 0
}