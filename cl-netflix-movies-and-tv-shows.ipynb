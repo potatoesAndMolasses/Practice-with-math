{
 "cells": [
  {
   "cell_type": "code",
   "execution_count": 1,
   "id": "f668b134",
   "metadata": {
    "_cell_guid": "b1076dfc-b9ad-4769-8c92-a6c4dae69d19",
    "_uuid": "8f2839f25d086af736a60e9eeb907d3b93b6e0e5",
    "execution": {
     "iopub.execute_input": "2025-02-19T16:32:32.967221Z",
     "iopub.status.busy": "2025-02-19T16:32:32.966832Z",
     "iopub.status.idle": "2025-02-19T16:32:37.039421Z",
     "shell.execute_reply": "2025-02-19T16:32:37.037867Z"
    },
    "papermill": {
     "duration": 4.079494,
     "end_time": "2025-02-19T16:32:37.041117",
     "exception": false,
     "start_time": "2025-02-19T16:32:32.961623",
     "status": "completed"
    },
    "tags": []
   },
   "outputs": [
    {
     "name": "stdout",
     "output_type": "stream",
     "text": [
      "/kaggle/input/netflix-shows/netflix_titles.csv\n"
     ]
    }
   ],
   "source": [
    "# Importando as bibliotecas e retirando os avisos sobre os gráficos que vão ser gerados\n",
    "\n",
    "import numpy as np\n",
    "import pandas as pd\n",
    "import seaborn as sns\n",
    "import matplotlib.pyplot as plt\n",
    "import warnings\n",
    "warnings.filterwarnings(\"ignore\")\n",
    "\n",
    "import os\n",
    "for dirname, _, filenames in os.walk('/kaggle/input'):\n",
    "    for filename in filenames:\n",
    "        print(os.path.join(dirname, filename))"
   ]
  },
  {
   "cell_type": "code",
   "execution_count": 2,
   "id": "bc14150c",
   "metadata": {
    "execution": {
     "iopub.execute_input": "2025-02-19T16:32:37.047869Z",
     "iopub.status.busy": "2025-02-19T16:32:37.047100Z",
     "iopub.status.idle": "2025-02-19T16:32:37.180659Z",
     "shell.execute_reply": "2025-02-19T16:32:37.179411Z"
    },
    "papermill": {
     "duration": 0.138463,
     "end_time": "2025-02-19T16:32:37.182259",
     "exception": false,
     "start_time": "2025-02-19T16:32:37.043796",
     "status": "completed"
    },
    "tags": []
   },
   "outputs": [],
   "source": [
    "# Leitura do dataset\n",
    "df = pd.read_csv(\"/kaggle/input/netflix-shows/netflix_titles.csv\")"
   ]
  },
  {
   "cell_type": "code",
   "execution_count": 3,
   "id": "de08db2b",
   "metadata": {
    "execution": {
     "iopub.execute_input": "2025-02-19T16:32:37.187818Z",
     "iopub.status.busy": "2025-02-19T16:32:37.187546Z",
     "iopub.status.idle": "2025-02-19T16:32:37.219158Z",
     "shell.execute_reply": "2025-02-19T16:32:37.217771Z"
    },
    "papermill": {
     "duration": 0.036657,
     "end_time": "2025-02-19T16:32:37.221408",
     "exception": false,
     "start_time": "2025-02-19T16:32:37.184751",
     "status": "completed"
    },
    "tags": []
   },
   "outputs": [
    {
     "data": {
      "text/html": [
       "<div>\n",
       "<style scoped>\n",
       "    .dataframe tbody tr th:only-of-type {\n",
       "        vertical-align: middle;\n",
       "    }\n",
       "\n",
       "    .dataframe tbody tr th {\n",
       "        vertical-align: top;\n",
       "    }\n",
       "\n",
       "    .dataframe thead th {\n",
       "        text-align: right;\n",
       "    }\n",
       "</style>\n",
       "<table border=\"1\" class=\"dataframe\">\n",
       "  <thead>\n",
       "    <tr style=\"text-align: right;\">\n",
       "      <th></th>\n",
       "      <th>show_id</th>\n",
       "      <th>type</th>\n",
       "      <th>title</th>\n",
       "      <th>director</th>\n",
       "      <th>cast</th>\n",
       "      <th>country</th>\n",
       "      <th>date_added</th>\n",
       "      <th>release_year</th>\n",
       "      <th>rating</th>\n",
       "      <th>duration</th>\n",
       "      <th>listed_in</th>\n",
       "      <th>description</th>\n",
       "    </tr>\n",
       "  </thead>\n",
       "  <tbody>\n",
       "    <tr>\n",
       "      <th>0</th>\n",
       "      <td>s1</td>\n",
       "      <td>Movie</td>\n",
       "      <td>Dick Johnson Is Dead</td>\n",
       "      <td>Kirsten Johnson</td>\n",
       "      <td>NaN</td>\n",
       "      <td>United States</td>\n",
       "      <td>September 25, 2021</td>\n",
       "      <td>2020</td>\n",
       "      <td>PG-13</td>\n",
       "      <td>90 min</td>\n",
       "      <td>Documentaries</td>\n",
       "      <td>As her father nears the end of his life, filmm...</td>\n",
       "    </tr>\n",
       "    <tr>\n",
       "      <th>1</th>\n",
       "      <td>s2</td>\n",
       "      <td>TV Show</td>\n",
       "      <td>Blood &amp; Water</td>\n",
       "      <td>NaN</td>\n",
       "      <td>Ama Qamata, Khosi Ngema, Gail Mabalane, Thaban...</td>\n",
       "      <td>South Africa</td>\n",
       "      <td>September 24, 2021</td>\n",
       "      <td>2021</td>\n",
       "      <td>TV-MA</td>\n",
       "      <td>2 Seasons</td>\n",
       "      <td>International TV Shows, TV Dramas, TV Mysteries</td>\n",
       "      <td>After crossing paths at a party, a Cape Town t...</td>\n",
       "    </tr>\n",
       "    <tr>\n",
       "      <th>2</th>\n",
       "      <td>s3</td>\n",
       "      <td>TV Show</td>\n",
       "      <td>Ganglands</td>\n",
       "      <td>Julien Leclercq</td>\n",
       "      <td>Sami Bouajila, Tracy Gotoas, Samuel Jouy, Nabi...</td>\n",
       "      <td>NaN</td>\n",
       "      <td>September 24, 2021</td>\n",
       "      <td>2021</td>\n",
       "      <td>TV-MA</td>\n",
       "      <td>1 Season</td>\n",
       "      <td>Crime TV Shows, International TV Shows, TV Act...</td>\n",
       "      <td>To protect his family from a powerful drug lor...</td>\n",
       "    </tr>\n",
       "    <tr>\n",
       "      <th>3</th>\n",
       "      <td>s4</td>\n",
       "      <td>TV Show</td>\n",
       "      <td>Jailbirds New Orleans</td>\n",
       "      <td>NaN</td>\n",
       "      <td>NaN</td>\n",
       "      <td>NaN</td>\n",
       "      <td>September 24, 2021</td>\n",
       "      <td>2021</td>\n",
       "      <td>TV-MA</td>\n",
       "      <td>1 Season</td>\n",
       "      <td>Docuseries, Reality TV</td>\n",
       "      <td>Feuds, flirtations and toilet talk go down amo...</td>\n",
       "    </tr>\n",
       "    <tr>\n",
       "      <th>4</th>\n",
       "      <td>s5</td>\n",
       "      <td>TV Show</td>\n",
       "      <td>Kota Factory</td>\n",
       "      <td>NaN</td>\n",
       "      <td>Mayur More, Jitendra Kumar, Ranjan Raj, Alam K...</td>\n",
       "      <td>India</td>\n",
       "      <td>September 24, 2021</td>\n",
       "      <td>2021</td>\n",
       "      <td>TV-MA</td>\n",
       "      <td>2 Seasons</td>\n",
       "      <td>International TV Shows, Romantic TV Shows, TV ...</td>\n",
       "      <td>In a city of coaching centers known to train I...</td>\n",
       "    </tr>\n",
       "  </tbody>\n",
       "</table>\n",
       "</div>"
      ],
      "text/plain": [
       "  show_id     type                  title         director  \\\n",
       "0      s1    Movie   Dick Johnson Is Dead  Kirsten Johnson   \n",
       "1      s2  TV Show          Blood & Water              NaN   \n",
       "2      s3  TV Show              Ganglands  Julien Leclercq   \n",
       "3      s4  TV Show  Jailbirds New Orleans              NaN   \n",
       "4      s5  TV Show           Kota Factory              NaN   \n",
       "\n",
       "                                                cast        country  \\\n",
       "0                                                NaN  United States   \n",
       "1  Ama Qamata, Khosi Ngema, Gail Mabalane, Thaban...   South Africa   \n",
       "2  Sami Bouajila, Tracy Gotoas, Samuel Jouy, Nabi...            NaN   \n",
       "3                                                NaN            NaN   \n",
       "4  Mayur More, Jitendra Kumar, Ranjan Raj, Alam K...          India   \n",
       "\n",
       "           date_added  release_year rating   duration  \\\n",
       "0  September 25, 2021          2020  PG-13     90 min   \n",
       "1  September 24, 2021          2021  TV-MA  2 Seasons   \n",
       "2  September 24, 2021          2021  TV-MA   1 Season   \n",
       "3  September 24, 2021          2021  TV-MA   1 Season   \n",
       "4  September 24, 2021          2021  TV-MA  2 Seasons   \n",
       "\n",
       "                                           listed_in  \\\n",
       "0                                      Documentaries   \n",
       "1    International TV Shows, TV Dramas, TV Mysteries   \n",
       "2  Crime TV Shows, International TV Shows, TV Act...   \n",
       "3                             Docuseries, Reality TV   \n",
       "4  International TV Shows, Romantic TV Shows, TV ...   \n",
       "\n",
       "                                         description  \n",
       "0  As her father nears the end of his life, filmm...  \n",
       "1  After crossing paths at a party, a Cape Town t...  \n",
       "2  To protect his family from a powerful drug lor...  \n",
       "3  Feuds, flirtations and toilet talk go down amo...  \n",
       "4  In a city of coaching centers known to train I...  "
      ]
     },
     "execution_count": 3,
     "metadata": {},
     "output_type": "execute_result"
    }
   ],
   "source": [
    "# Informações das primeiras colunas, poderiamos usar um .tail() para pegar as últimas linhas\n",
    "df.head()"
   ]
  },
  {
   "cell_type": "code",
   "execution_count": 4,
   "id": "6d506da4",
   "metadata": {
    "execution": {
     "iopub.execute_input": "2025-02-19T16:32:37.228238Z",
     "iopub.status.busy": "2025-02-19T16:32:37.227871Z",
     "iopub.status.idle": "2025-02-19T16:32:37.279832Z",
     "shell.execute_reply": "2025-02-19T16:32:37.277756Z"
    },
    "papermill": {
     "duration": 0.057269,
     "end_time": "2025-02-19T16:32:37.281621",
     "exception": false,
     "start_time": "2025-02-19T16:32:37.224352",
     "status": "completed"
    },
    "tags": []
   },
   "outputs": [
    {
     "name": "stdout",
     "output_type": "stream",
     "text": [
      "<class 'pandas.core.frame.DataFrame'>\n",
      "RangeIndex: 8807 entries, 0 to 8806\n",
      "Data columns (total 12 columns):\n",
      " #   Column        Non-Null Count  Dtype \n",
      "---  ------        --------------  ----- \n",
      " 0   show_id       8807 non-null   object\n",
      " 1   type          8807 non-null   object\n",
      " 2   title         8807 non-null   object\n",
      " 3   director      6173 non-null   object\n",
      " 4   cast          7982 non-null   object\n",
      " 5   country       7976 non-null   object\n",
      " 6   date_added    8797 non-null   object\n",
      " 7   release_year  8807 non-null   int64 \n",
      " 8   rating        8803 non-null   object\n",
      " 9   duration      8804 non-null   object\n",
      " 10  listed_in     8807 non-null   object\n",
      " 11  description   8807 non-null   object\n",
      "dtypes: int64(1), object(11)\n",
      "memory usage: 825.8+ KB\n"
     ]
    }
   ],
   "source": [
    "# Informações em geral do dataset: os nomes das colunas, quantas linhas estão preenchidas e os tipos de dados em cada coluna\n",
    "\n",
    "df.info()"
   ]
  },
  {
   "cell_type": "code",
   "execution_count": 5,
   "id": "c5fbca1f",
   "metadata": {
    "execution": {
     "iopub.execute_input": "2025-02-19T16:32:37.288484Z",
     "iopub.status.busy": "2025-02-19T16:32:37.288005Z",
     "iopub.status.idle": "2025-02-19T16:32:37.303192Z",
     "shell.execute_reply": "2025-02-19T16:32:37.301230Z"
    },
    "papermill": {
     "duration": 0.020788,
     "end_time": "2025-02-19T16:32:37.305182",
     "exception": false,
     "start_time": "2025-02-19T16:32:37.284394",
     "status": "completed"
    },
    "tags": []
   },
   "outputs": [
    {
     "data": {
      "text/plain": [
       "show_id            0\n",
       "type               0\n",
       "title              0\n",
       "director        2634\n",
       "cast             825\n",
       "country          831\n",
       "date_added        10\n",
       "release_year       0\n",
       "rating             4\n",
       "duration           3\n",
       "listed_in          0\n",
       "description        0\n",
       "dtype: int64"
      ]
     },
     "execution_count": 5,
     "metadata": {},
     "output_type": "execute_result"
    }
   ],
   "source": [
    "# Da info anterior sabemos que temos colunas nulas, vamos descobrir quais e quantas\n",
    "\n",
    "df.isnull().sum()"
   ]
  },
  {
   "cell_type": "code",
   "execution_count": 6,
   "id": "496be8aa",
   "metadata": {
    "execution": {
     "iopub.execute_input": "2025-02-19T16:32:37.312673Z",
     "iopub.status.busy": "2025-02-19T16:32:37.312143Z",
     "iopub.status.idle": "2025-02-19T16:32:37.329106Z",
     "shell.execute_reply": "2025-02-19T16:32:37.327351Z"
    },
    "papermill": {
     "duration": 0.023081,
     "end_time": "2025-02-19T16:32:37.331486",
     "exception": false,
     "start_time": "2025-02-19T16:32:37.308405",
     "status": "completed"
    },
    "tags": []
   },
   "outputs": [],
   "source": [
    "# Preenchemos os valores das colunas nulas com a info desconhecido\n",
    "\n",
    "df = df.fillna('desconhecido')"
   ]
  },
  {
   "cell_type": "code",
   "execution_count": 7,
   "id": "af8d842d",
   "metadata": {
    "execution": {
     "iopub.execute_input": "2025-02-19T16:32:37.340454Z",
     "iopub.status.busy": "2025-02-19T16:32:37.339932Z",
     "iopub.status.idle": "2025-02-19T16:32:37.363477Z",
     "shell.execute_reply": "2025-02-19T16:32:37.362497Z"
    },
    "papermill": {
     "duration": 0.02945,
     "end_time": "2025-02-19T16:32:37.365018",
     "exception": false,
     "start_time": "2025-02-19T16:32:37.335568",
     "status": "completed"
    },
    "tags": []
   },
   "outputs": [
    {
     "data": {
      "text/html": [
       "<div>\n",
       "<style scoped>\n",
       "    .dataframe tbody tr th:only-of-type {\n",
       "        vertical-align: middle;\n",
       "    }\n",
       "\n",
       "    .dataframe tbody tr th {\n",
       "        vertical-align: top;\n",
       "    }\n",
       "\n",
       "    .dataframe thead th {\n",
       "        text-align: right;\n",
       "    }\n",
       "</style>\n",
       "<table border=\"1\" class=\"dataframe\">\n",
       "  <thead>\n",
       "    <tr style=\"text-align: right;\">\n",
       "      <th></th>\n",
       "      <th>release_year</th>\n",
       "    </tr>\n",
       "  </thead>\n",
       "  <tbody>\n",
       "    <tr>\n",
       "      <th>count</th>\n",
       "      <td>8807.000000</td>\n",
       "    </tr>\n",
       "    <tr>\n",
       "      <th>mean</th>\n",
       "      <td>2014.180198</td>\n",
       "    </tr>\n",
       "    <tr>\n",
       "      <th>std</th>\n",
       "      <td>8.819312</td>\n",
       "    </tr>\n",
       "    <tr>\n",
       "      <th>min</th>\n",
       "      <td>1925.000000</td>\n",
       "    </tr>\n",
       "    <tr>\n",
       "      <th>25%</th>\n",
       "      <td>2013.000000</td>\n",
       "    </tr>\n",
       "    <tr>\n",
       "      <th>50%</th>\n",
       "      <td>2017.000000</td>\n",
       "    </tr>\n",
       "    <tr>\n",
       "      <th>75%</th>\n",
       "      <td>2019.000000</td>\n",
       "    </tr>\n",
       "    <tr>\n",
       "      <th>max</th>\n",
       "      <td>2021.000000</td>\n",
       "    </tr>\n",
       "  </tbody>\n",
       "</table>\n",
       "</div>"
      ],
      "text/plain": [
       "       release_year\n",
       "count   8807.000000\n",
       "mean    2014.180198\n",
       "std        8.819312\n",
       "min     1925.000000\n",
       "25%     2013.000000\n",
       "50%     2017.000000\n",
       "75%     2019.000000\n",
       "max     2021.000000"
      ]
     },
     "execution_count": 7,
     "metadata": {},
     "output_type": "execute_result"
    }
   ],
   "source": [
    "# Uma estatística sobre a única coluna númerica que temos\n",
    "\n",
    "df.describe()"
   ]
  },
  {
   "cell_type": "code",
   "execution_count": 8,
   "id": "a44995ee",
   "metadata": {
    "execution": {
     "iopub.execute_input": "2025-02-19T16:32:37.373043Z",
     "iopub.status.busy": "2025-02-19T16:32:37.372626Z",
     "iopub.status.idle": "2025-02-19T16:32:37.387048Z",
     "shell.execute_reply": "2025-02-19T16:32:37.384902Z"
    },
    "papermill": {
     "duration": 0.021212,
     "end_time": "2025-02-19T16:32:37.389647",
     "exception": false,
     "start_time": "2025-02-19T16:32:37.368435",
     "status": "completed"
    },
    "tags": []
   },
   "outputs": [],
   "source": [
    "# Vamos nos livrar da coluna com o id do conteúdo\n",
    "\n",
    "df.drop('show_id', axis=1, inplace=True)"
   ]
  },
  {
   "cell_type": "code",
   "execution_count": 9,
   "id": "dcfe2c42",
   "metadata": {
    "execution": {
     "iopub.execute_input": "2025-02-19T16:32:37.397230Z",
     "iopub.status.busy": "2025-02-19T16:32:37.396768Z",
     "iopub.status.idle": "2025-02-19T16:32:37.403805Z",
     "shell.execute_reply": "2025-02-19T16:32:37.402240Z"
    },
    "papermill": {
     "duration": 0.01268,
     "end_time": "2025-02-19T16:32:37.405445",
     "exception": false,
     "start_time": "2025-02-19T16:32:37.392765",
     "status": "completed"
    },
    "tags": []
   },
   "outputs": [],
   "source": [
    "# A ideia é agrupar o dataset em dois valores, obje para as colunas objetivas e num para as colunas numericas, vamos usar isso futuramente\n",
    "\n",
    "col_obj = []\n",
    "col_num = []\n",
    "\n",
    "for col in df.columns:\n",
    "    if df[col].dtype == 'object':\n",
    "        col_obj.append(col)\n",
    "    else :\n",
    "        col_num.append(col)"
   ]
  },
  {
   "cell_type": "code",
   "execution_count": 10,
   "id": "bfe5fe0f",
   "metadata": {
    "execution": {
     "iopub.execute_input": "2025-02-19T16:32:37.412987Z",
     "iopub.status.busy": "2025-02-19T16:32:37.412462Z",
     "iopub.status.idle": "2025-02-19T16:32:37.471705Z",
     "shell.execute_reply": "2025-02-19T16:32:37.470298Z"
    },
    "papermill": {
     "duration": 0.065249,
     "end_time": "2025-02-19T16:32:37.473713",
     "exception": false,
     "start_time": "2025-02-19T16:32:37.408464",
     "status": "completed"
    },
    "tags": []
   },
   "outputs": [
    {
     "name": "stdout",
     "output_type": "stream",
     "text": [
      "Frequência da coluna type:\n",
      "      type  Frequência\n",
      "0    Movie        6131\n",
      "1  TV Show        2676\n",
      "\n",
      "\n",
      "Frequência da coluna title:\n",
      "                                      title  Frequência\n",
      "0                      Dick Johnson Is Dead           1\n",
      "1                                  Ip Man 2           1\n",
      "2          Hannibal Buress: Comedy Camisado           1\n",
      "3                                Turbo FAST           1\n",
      "4                             Masha's Tales           1\n",
      "...                                     ...         ...\n",
      "8802                        Love for Sale 2           1\n",
      "8803                           ROAD TO ROMA           1\n",
      "8804                              Good Time           1\n",
      "8805  Captain Underpants Epic Choice-o-Rama           1\n",
      "8806                                 Zubaan           1\n",
      "\n",
      "[8807 rows x 2 columns]\n",
      "\n",
      "\n",
      "Frequência da coluna director:\n",
      "                            director  Frequência\n",
      "0                       desconhecido        2634\n",
      "1                      Rajiv Chilaka          19\n",
      "2             Raúl Campos, Jan Suter          18\n",
      "3                        Suhas Kadav          16\n",
      "4                       Marcus Raboy          16\n",
      "...                              ...         ...\n",
      "4524  Raymie Muzquiz, Stu Livingston           1\n",
      "4525                    Joe Menendez           1\n",
      "4526                      Eric Bross           1\n",
      "4527                  Will Eisenberg           1\n",
      "4528                     Mozez Singh           1\n",
      "\n",
      "[4529 rows x 2 columns]\n",
      "\n",
      "\n",
      "Frequência da coluna cast:\n",
      "                                                   cast  Frequência\n",
      "0                                          desconhecido         825\n",
      "1                                    David Attenborough          19\n",
      "2     Vatsal Dubey, Julie Tejwani, Rupa Bhimani, Jig...          14\n",
      "3                                           Samuel West          10\n",
      "4                                           Jeff Dunham           7\n",
      "...                                                 ...         ...\n",
      "7688                        Nick Lachey, Vanessa Lachey           1\n",
      "7689  Takeru Sato, Kasumi Arimura, Haru, Kentaro Sak...           1\n",
      "7690  Toyin Abraham, Sambasa Nzeribe, Chioma Chukwuk...           1\n",
      "7691  Neeraj Kabi, Geetanjali Kulkarni, Danish Husai...           1\n",
      "7692  Vicky Kaushal, Sarah-Jane Dias, Raaghav Chanan...           1\n",
      "\n",
      "[7693 rows x 2 columns]\n",
      "\n",
      "\n",
      "Frequência da coluna country:\n",
      "                                    country  Frequência\n",
      "0                             United States        2818\n",
      "1                                     India         972\n",
      "2                              desconhecido         831\n",
      "3                            United Kingdom         419\n",
      "4                                     Japan         245\n",
      "..                                      ...         ...\n",
      "744              Romania, Bulgaria, Hungary           1\n",
      "745                      Uruguay, Guatemala           1\n",
      "746                France, Senegal, Belgium           1\n",
      "747  Mexico, United States, Spain, Colombia           1\n",
      "748            United Arab Emirates, Jordan           1\n",
      "\n",
      "[749 rows x 2 columns]\n",
      "\n",
      "\n",
      "Frequência da coluna date_added:\n",
      "             date_added  Frequência\n",
      "0       January 1, 2020         109\n",
      "1      November 1, 2019          89\n",
      "2         March 1, 2018          75\n",
      "3     December 31, 2019          74\n",
      "4       October 1, 2018          71\n",
      "...                 ...         ...\n",
      "1763   December 4, 2016           1\n",
      "1764  November 21, 2016           1\n",
      "1765  November 19, 2016           1\n",
      "1766  November 17, 2016           1\n",
      "1767   January 11, 2020           1\n",
      "\n",
      "[1768 rows x 2 columns]\n",
      "\n",
      "\n",
      "Frequência da coluna rating:\n",
      "          rating  Frequência\n",
      "0          TV-MA        3207\n",
      "1          TV-14        2160\n",
      "2          TV-PG         863\n",
      "3              R         799\n",
      "4          PG-13         490\n",
      "5          TV-Y7         334\n",
      "6           TV-Y         307\n",
      "7             PG         287\n",
      "8           TV-G         220\n",
      "9             NR          80\n",
      "10             G          41\n",
      "11      TV-Y7-FV           6\n",
      "12  desconhecido           4\n",
      "13         NC-17           3\n",
      "14            UR           3\n",
      "15        74 min           1\n",
      "16        84 min           1\n",
      "17        66 min           1\n",
      "\n",
      "\n",
      "Frequência da coluna duration:\n",
      "      duration  Frequência\n",
      "0     1 Season        1793\n",
      "1    2 Seasons         425\n",
      "2    3 Seasons         199\n",
      "3       90 min         152\n",
      "4       94 min         146\n",
      "..         ...         ...\n",
      "216    189 min           1\n",
      "217     10 min           1\n",
      "218      3 min           1\n",
      "219    229 min           1\n",
      "220    191 min           1\n",
      "\n",
      "[221 rows x 2 columns]\n",
      "\n",
      "\n",
      "Frequência da coluna listed_in:\n",
      "                                             listed_in  Frequência\n",
      "0                         Dramas, International Movies         362\n",
      "1                                        Documentaries         359\n",
      "2                                      Stand-Up Comedy         334\n",
      "3               Comedies, Dramas, International Movies         274\n",
      "4     Dramas, Independent Movies, International Movies         252\n",
      "..                                                 ...         ...\n",
      "509         Kids' TV, TV Action & Adventure, TV Dramas           1\n",
      "510                  TV Comedies, TV Dramas, TV Horror           1\n",
      "511   Children & Family Movies, Comedies, LGBTQ Movies           1\n",
      "512  Kids' TV, Spanish-Language TV Shows, Teen TV S...           1\n",
      "513                     Cult Movies, Dramas, Thrillers           1\n",
      "\n",
      "[514 rows x 2 columns]\n",
      "\n",
      "\n",
      "Frequência da coluna description:\n",
      "                                            description  Frequência\n",
      "0     Paranormal activity at a lush, abandoned prope...           4\n",
      "1     Challenged to compose 100 songs before he can ...           3\n",
      "2     A surly septuagenarian gets another chance at ...           3\n",
      "3     Multiple women report their husbands as missin...           3\n",
      "4     Secrets bubble to the surface after a sensual ...           2\n",
      "...                                                 ...         ...\n",
      "8770  Sent away to evade an arranged marriage, a 14-...           1\n",
      "8771  When his partner in crime goes missing, a smal...           1\n",
      "8772  During 1962’s Cuban missile crisis, a troubled...           1\n",
      "8773  A teen's discovery of a vintage Polaroid camer...           1\n",
      "8774  A scrappy but poor boy worms his way into a ty...           1\n",
      "\n",
      "[8775 rows x 2 columns]\n",
      "\n",
      "\n"
     ]
    }
   ],
   "source": [
    "# Usamos a lista preenchida para mostrar informações (gráficos e quantidades) das colunas objetivas\n",
    "# Como temos muitos valores, não vamos gerar os gráficos e sim mostrar uma tabela com os valores \n",
    "\n",
    "for col in col_obj:\n",
    "    # Conta a frequência dos valores na coluna\n",
    "    qtd = df[col].value_counts().reset_index(name='Frequência')\n",
    "    qtd.columns = [col, 'Frequência']\n",
    "    # Imprime as frequências\n",
    "    print(f'Frequência da coluna {col}:')\n",
    "    print(qtd)\n",
    "    print(\"\\n\")"
   ]
  },
  {
   "cell_type": "code",
   "execution_count": 11,
   "id": "976de41d",
   "metadata": {
    "execution": {
     "iopub.execute_input": "2025-02-19T16:32:37.481382Z",
     "iopub.status.busy": "2025-02-19T16:32:37.480954Z",
     "iopub.status.idle": "2025-02-19T16:32:38.133432Z",
     "shell.execute_reply": "2025-02-19T16:32:38.131918Z"
    },
    "papermill": {
     "duration": 0.658382,
     "end_time": "2025-02-19T16:32:38.135352",
     "exception": false,
     "start_time": "2025-02-19T16:32:37.476970",
     "status": "completed"
    },
    "tags": []
   },
   "outputs": [
    {
     "data": {
      "image/png": "[encoded data removed]",
      "text/plain": [
       "<Figure size 1000x600 with 1 Axes>"
      ]
     },
     "metadata": {},
     "output_type": "display_data"
    },
    {
     "name": "stdout",
     "output_type": "stream",
     "text": [
      "Frequência da coluna release_year:\n",
      "    release_year  Frequência\n",
      "0           2018        1147\n",
      "1           2017        1032\n",
      "2           2019        1030\n",
      "3           2020         953\n",
      "4           2016         902\n",
      "..           ...         ...\n",
      "69          1959           1\n",
      "70          1925           1\n",
      "71          1961           1\n",
      "72          1947           1\n",
      "73          1966           1\n",
      "\n",
      "[74 rows x 2 columns]\n"
     ]
    }
   ],
   "source": [
    "# Usamos a lista preenchida para mostrar informações (gráficos e quantidades) das colunas numericas\n",
    "\n",
    "for col in col_num:\n",
    "    plt.figure(figsize=(10, 6))\n",
    "    plt.title(f\"Frequência de: {col}\")\n",
    "    plt.xlabel(f\"{col}\")\n",
    "    plt.ylabel(\"Frequência\")\n",
    "    sns.countplot(data=df, x=col, palette=\"Set2\")\n",
    "    plt.xticks(rotation=90)\n",
    "    plt.show()  # Exibe o gráfico\n",
    "    # Conta a frequência dos valores na coluna\n",
    "    qtd = df[col].value_counts().reset_index(name='Frequência')\n",
    "    qtd.columns = [col, 'Frequência']\n",
    "    # Imprime as frequências\n",
    "    print(f'Frequência da coluna {col}:')\n",
    "    print(qtd)"
   ]
  }
 ],
 "metadata": {
  "kaggle": {
   "accelerator": "none",
   "dataSources": [
    {
     "datasetId": 434238,
     "sourceId": 2654038,
     "sourceType": "datasetVersion"
    }
   ],
   "dockerImageVersionId": 30886,
   "isGpuEnabled": false,
   "isInternetEnabled": true,
   "language": "python",
   "sourceType": "notebook"
  },
  "kernelspec": {
   "display_name": "Python 3",
   "language": "python",
   "name": "python3"
  },
  "language_info": {
   "codemirror_mode": {
    "name": "ipython",
    "version": 3
   },
   "file_extension": ".py",
   "mimetype": "text/x-python",
   "name": "python",
   "nbconvert_exporter": "python",
   "pygments_lexer": "ipython3",
   "version": "3.10.12"
  },
  "papermill": {
   "default_parameters": {},
   "duration": 8.824024,
   "end_time": "2025-02-19T16:32:39.065613",
   "environment_variables": {},
   "exception": null,
   "input_path": "__notebook__.ipynb",
   "output_path": "__notebook__.ipynb",
   "parameters": {},
   "start_time": "2025-02-19T16:32:30.241589",
   "version": "2.6.0"
  }
 },
 "nbformat": 4,
 "nbformat_minor": 5
}
